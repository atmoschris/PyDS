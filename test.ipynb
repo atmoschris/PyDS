{
 "cells": [
  {
   "cell_type": "code",
   "execution_count": 1,
   "metadata": {
    "collapsed": true
   },
   "outputs": [],
   "source": [
    "import pyds as pd"
   ]
  },
  {
   "cell_type": "code",
   "execution_count": 2,
   "metadata": {
    "collapsed": false
   },
   "outputs": [
    {
     "name": "stdout",
     "output_type": "stream",
     "text": [
      "\n",
      ">>>>>> Lorenz63 ...\n",
      "\n",
      "       sigma: 10\n",
      "           r: 28\n",
      "           b: 2.6666666666666665\n",
      "(x0, y0, z0): (0, 1, 0)\n",
      "          dt: 0.01\n",
      "          nt: 10\n",
      "  int_method: center\n",
      "\n",
      "...................\n",
      "\n",
      "00001         0.1000000000         0.9900000000         0.0000000000\n",
      "00002         0.1890000000         1.0081000000         0.0009900000\n",
      "00003         0.2709100000         1.0509371289         0.0028689090\n",
      "00004         0.3489127129         1.1162747854         0.0056394985\n",
      "00005         0.4256489201         1.2027879203         0.0093839365\n",
      "00006         0.5033628202         1.3099017961         0.0142533520\n",
      "00007         0.5840167178         1.4376726217         0.0204668213\n",
      "00008         0.6693823081         1.5867010468         0.0283172878\n",
      "00009         0.7611141820         1.7580715317         0.0381832562\n",
      "00010         0.8608099170         1.9533121692         0.0505459678\n"
     ]
    }
   ],
   "source": [
    "pd.Model.Lorenz63(nt=10)"
   ]
  },
  {
   "cell_type": "code",
   "execution_count": null,
   "metadata": {
    "collapsed": true
   },
   "outputs": [],
   "source": []
  }
 ],
 "metadata": {
  "kernelspec": {
   "display_name": "Python 3",
   "language": "python",
   "name": "python3"
  },
  "language_info": {
   "codemirror_mode": {
    "name": "ipython",
    "version": 3
   },
   "file_extension": ".py",
   "mimetype": "text/x-python",
   "name": "python",
   "nbconvert_exporter": "python",
   "pygments_lexer": "ipython3",
   "version": "3.4.3"
  }
 },
 "nbformat": 4,
 "nbformat_minor": 0
}
